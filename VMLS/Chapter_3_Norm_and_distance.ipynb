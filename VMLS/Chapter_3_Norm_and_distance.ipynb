{
 "cells": [
  {
   "cell_type": "markdown",
   "metadata": {},
   "source": [
    "## Norm\n",
    "\n",
    "The Euclidean norm of an n-vector x (named after the Greek mathematician Eu- clid), denoted ∥x∥, is the squareroot of the sum of the squares of its elements,"
   ]
  },
  {
   "cell_type": "markdown",
   "metadata": {},
   "source": [
    "∥x∥= x1+x2+···+xn.\n",
    "The Euclidean norm can also be expressed as the squareroot of the inner product of the vector with itself, i.e., ∥x∥ = √xT x."
   ]
  },
  {
   "cell_type": "markdown",
   "metadata": {},
   "source": [
    "### Properties of norm. Some important properties of the Euclidean norm are given below.\n",
    "Here x and y are vectors of the same size, and β is a scalar.  \n",
    "• Nonnegative homogeneity. ∥βx∥ = |β|∥x∥. Multiplying a vector by a scalar\n",
    " multiplies the norm by the absolute value of the scalar.  \n",
    "• Triangle inequality. ∥x+y∥ ≤ ∥x∥+∥y∥. The Euclidean norm of a sum of two vectors is no more than the sum of their norms. (The name of this property will be explained later.) Another name for this inequality is subadditivity.  \n",
    "• Nonnegativity. ∥x∥ ≥ 0.  \n",
    "• Definiteness. ∥x∥ = 0 only if x = 0.  "
   ]
  },
  {
   "cell_type": "markdown",
   "metadata": {},
   "source": [
    "### Euclidean distance. \n",
    "We can use the norm to define the Euclidean distance between two vectors a and b as the norm of their difference:    \n",
    "dist(a, b) = ∥a − b∥.\n"
   ]
  },
  {
   "cell_type": "markdown",
   "metadata": {},
   "source": [
    "### Triangle inequality\n",
    "Geometric intuition tells us that the length of any side of a triangle cannot exceed\n",
    "the sum of the lengths of the other two sides. For example, we have\n",
    "∥a−c∥ ≤ ∥a−b∥+∥b−c∥."
   ]
  },
  {
   "cell_type": "markdown",
   "metadata": {},
   "source": [
    "### Exercise 3.1 :\n",
    "Distance between Boolean vectors. Suppose that x and y are Boolean n-vectors, which means that each of their entries is either 0 or 1. What is their distance ∥x − y∥?"
   ]
  },
  {
   "cell_type": "markdown",
   "metadata": {},
   "source": [
    "(x-y)^2 for each element is either 0 or 1. So distance is squareroot of the number of entries in which x and y differ."
   ]
  },
  {
   "cell_type": "code",
   "execution_count": null,
   "metadata": {},
   "outputs": [],
   "source": []
  }
 ],
 "metadata": {
  "kernelspec": {
   "display_name": "Python 3",
   "language": "python",
   "name": "python3"
  },
  "language_info": {
   "codemirror_mode": {
    "name": "ipython",
    "version": 3
   },
   "file_extension": ".py",
   "mimetype": "text/x-python",
   "name": "python",
   "nbconvert_exporter": "python",
   "pygments_lexer": "ipython3",
   "version": "3.7.6"
  }
 },
 "nbformat": 4,
 "nbformat_minor": 4
}
