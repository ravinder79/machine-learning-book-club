{
 "cells": [
  {
   "cell_type": "markdown",
   "metadata": {},
   "source": [
    "# Chapter 2\n",
    "## Linear functions\n"
   ]
  },
  {
   "cell_type": "markdown",
   "metadata": {},
   "source": [
    "\n",
    "### The inner product function.   \n",
    "Suppose a is an n-vector. We can define a scalar- valued function f of n-vectors, given by  \n",
    "f(x)=a<sup>T</sup>x=a<sub>1</sub>x<sub>1</sub> +a<sub>2</sub>x<sub>2</sub> +···+a<sub>n</sub>x<sub>n</sub>  \n",
    "for any n-vector x"
   ]
  },
  {
   "cell_type": "markdown",
   "metadata": {},
   "source": [
    "### Superposition and linearity. \n",
    "\n",
    "The inner product function f defined in (2.1) satisfies the property  \n",
    "f(αx+βy) = aT(αx+βy)  \n",
    "= aT (αx) + aT (βy)  \n",
    "= α(aT x) + β(aT y)  \n",
    "= αf(x) + βf(y)  \n",
    "for all n-vectors x, y, and all scalars α, β."
   ]
  },
  {
   "cell_type": "markdown",
   "metadata": {},
   "source": [
    "## A Function is linear if: \n",
    "\n",
    "### Homogeneity: Homogeneity states that scaling the (vector) argument is the same as scaling the function value\n",
    "\n",
    "\n",
    "For any n-vector x and any scalar α, f(αx) = αf(x).  \n",
    "\n",
    "### Additivity: Additivity says that adding (vector) arguments is the same as adding the function values.\n",
    "For any n-vectors x and y, f(x + y) = f(x) + f(y)."
   ]
  },
  {
   "cell_type": "markdown",
   "metadata": {},
   "source": [
    "## Affine Function:\n",
    "#### A linear function plus a constant is called an affine function.\n",
    "A function f is affine if and only if it can be expressed as f(x)=aTx+b for some n-vector a and scalar b, which is sometimes called the offset."
   ]
  },
  {
   "cell_type": "code",
   "execution_count": null,
   "metadata": {},
   "outputs": [],
   "source": []
  }
 ],
 "metadata": {
  "kernelspec": {
   "display_name": "Python 3",
   "language": "python",
   "name": "python3"
  },
  "language_info": {
   "codemirror_mode": {
    "name": "ipython",
    "version": 3
   },
   "file_extension": ".py",
   "mimetype": "text/x-python",
   "name": "python",
   "nbconvert_exporter": "python",
   "pygments_lexer": "ipython3",
   "version": "3.7.6"
  }
 },
 "nbformat": 4,
 "nbformat_minor": 4
}
