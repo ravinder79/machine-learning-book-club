{
 "cells": [
  {
   "cell_type": "markdown",
   "metadata": {},
   "source": [
    "# Chapter 2\n",
    "## Linear functions\n"
   ]
  },
  {
   "cell_type": "markdown",
   "metadata": {},
   "source": [
    "\n",
    "### The inner product function.   \n",
    "Suppose a is an n-vector. We can define a scalar- valued function f of n-vectors, given by  \n",
    "f(x)=a<sup>T</sup>x=a<sub>1</sub>x<sub>1</sub> +a<sub>2</sub>x<sub>2</sub> +···+a<sub>n</sub>x<sub>n</sub>  \n",
    "for any n-vector x"
   ]
  },
  {
   "cell_type": "markdown",
   "metadata": {},
   "source": [
    "### Superposition and linearity. \n",
    "\n",
    "The inner product function f defined in (2.1) satisfies the property  \n",
    "f(αx+βy) = aT(αx+βy)  \n",
    "= aT (αx) + aT (βy)  \n",
    "= α(aT x) + β(aT y)  \n",
    "= αf(x) + βf(y)  \n",
    "for all n-vectors x, y, and all scalars α, β."
   ]
  },
  {
   "cell_type": "markdown",
   "metadata": {},
   "source": []
  },
  {
   "cell_type": "markdown",
   "metadata": {},
   "source": []
  }
 ],
 "metadata": {
  "kernelspec": {
   "display_name": "Python 3",
   "language": "python",
   "name": "python3"
  },
  "language_info": {
   "codemirror_mode": {
    "name": "ipython",
    "version": 3
   },
   "file_extension": ".py",
   "mimetype": "text/x-python",
   "name": "python",
   "nbconvert_exporter": "python",
   "pygments_lexer": "ipython3",
   "version": "3.7.6"
  }
 },
 "nbformat": 4,
 "nbformat_minor": 4
}
