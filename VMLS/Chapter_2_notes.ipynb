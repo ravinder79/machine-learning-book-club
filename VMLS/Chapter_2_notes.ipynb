{
 "cells": [
  {
   "cell_type": "markdown",
   "metadata": {},
   "source": [
    "# Chapter 2\n",
    "## Linear functions\n"
   ]
  },
  {
   "cell_type": "markdown",
   "metadata": {},
   "source": [
    "\n",
    "### The inner product function.   \n",
    "Suppose a is an n-vector. We can define a scalar- valued function f of n-vectors, given by  \n",
    "f(x)=a<sup>T</sup>x=a<sub>1</sub>x<sub>1</sub> +a<sub>2</sub>x<sub>2</sub> +···+a<sub>n</sub>x<sub>n</sub>  \n",
    "for any n-vector x"
   ]
  },
  {
   "cell_type": "markdown",
   "metadata": {},
   "source": [
    "### Superposition and linearity. \n",
    "\n",
    "The inner product function f defined in (2.1) satisfies the property  \n",
    "f(αx+βy) = aT(αx+βy)  \n",
    "= aT (αx) + aT (βy)  \n",
    "= α(aT x) + β(aT y)  \n",
    "= αf(x) + βf(y)  \n",
    "for all n-vectors x, y, and all scalars α, β."
   ]
  },
  {
   "cell_type": "markdown",
   "metadata": {},
   "source": [
    "## A Function is linear if: \n",
    "\n",
    "### Homogeneity: Homogeneity states that scaling the (vector) argument is the same as scaling the function value\n",
    "\n",
    "\n",
    "For any n-vector x and any scalar α, f(αx) = αf(x).  \n",
    "\n",
    "### Additivity: Additivity says that adding (vector) arguments is the same as adding the function values.\n",
    "For any n-vectors x and y, f(x + y) = f(x) + f(y)."
   ]
  },
  {
   "cell_type": "markdown",
   "metadata": {},
   "source": [
    "## Affine Function:\n",
    "#### A linear function plus a constant is called an affine function.\n",
    "A function f is affine if and only if it can be expressed as f(x)=aTx+b for some n-vector a and scalar b, which is sometimes called the offset."
   ]
  },
  {
   "cell_type": "markdown",
   "metadata": {},
   "source": [
    "# Taylor approximation"
   ]
  },
  {
   "cell_type": "markdown",
   "metadata": {},
   "source": [
    "### If f(x) is a differentiable function, then f(x) is well approximated by its tangent line.\n"
   ]
  },
  {
   "cell_type": "markdown",
   "metadata": {},
   "source": [
    "\\begin{align*}f\\left( x \\right) & = \\sum\\limits_{n = 0}^\\infty {\\frac{{{f^{\\left( n \\right)}}\\left( a \\right)}}{{n!}}{{\\left( {x - a} \\right)}^n}} \\\\ & = f\\left( a \\right) + f'\\left( a \\right)\\left( {x - a} \\right) + \\frac{{f''\\left( a \\right)}}{{2!}}{\\left( {x - a} \\right)^2} + \\frac{{f'''\\left( a \\right)}}{{3!}}{\\left( {x - a} \\right)^3} + \\cdots \\end{align*}"
   ]
  },
  {
   "cell_type": "markdown",
   "metadata": {},
   "source": [
    "# Exercises"
   ]
  },
  {
   "cell_type": "markdown",
   "metadata": {},
   "source": [
    "#### Exercise 1: (a) The spread of values of the vector, defined as f (x) = max<sub>k</sub> x<sub>k</sub>  − min<sub>k</sub>  x<sub>k</sub> ."
   ]
  },
  {
   "cell_type": "markdown",
   "metadata": {},
   "source": [
    "Check for additive properties"
   ]
  },
  {
   "cell_type": "markdown",
   "metadata": {},
   "source": [
    "x=(2,0),y=(0,2), a = b= 1/2  \n",
    "f(a*x + b*y) = f(1,1) = 0  \n",
    "f(a*x) = f(1,0) = 1  \n",
    "f(a*y) = f(0,1) = 1\n",
    "\n",
    "#### Hence it is not linear"
   ]
  },
  {
   "cell_type": "markdown",
   "metadata": {},
   "source": [
    "#### (b) The difference of the last element and the first, f(x) = x<sub>n</sub> − x<sub>1</sub>."
   ]
  },
  {
   "cell_type": "markdown",
   "metadata": {},
   "source": [
    "x = (1,0) y = (0,1), a = 1/2, b = 1/2  \n",
    "a*x + b* y = (1/2, 1/2)  \n",
    "f(a*x + b* y) = f(1/2,1/2) = 0  \n",
    "a*f(x) + b *f(x) = 1/2 * 1 + 1/2 * -1 = 0"
   ]
  },
  {
   "cell_type": "markdown",
   "metadata": {},
   "source": [
    "linear  \n",
    "f(x) = a<sub>T</sub> x   \n",
    "a = (-1,0,0...0,1)"
   ]
  },
  {
   "cell_type": "markdown",
   "metadata": {},
   "source": [
    "#### (c) The median of an n-vector, where we will assume n = 2k + 1 is odd. The median of the vector x is defined as the (k + 1)st largest number among the entries of x. For example, the median of (−7.1, 3.2, −1.5) is −1.5."
   ]
  },
  {
   "cell_type": "markdown",
   "metadata": {},
   "source": [
    "x = (1,4,6) , y = (3,5,8)    a = b = 1  \n",
    "f(a*x + b*y) = f(4,9, 14) = 9  \n",
    "Not linear"
   ]
  },
  {
   "cell_type": "markdown",
   "metadata": {},
   "source": [
    "#### (d) The average of the entries with odd indices, minus the average of the entries with even indices. You can assume that n = 2k is even."
   ]
  },
  {
   "cell_type": "markdown",
   "metadata": {},
   "source": [
    "x = (1,4,6, 9) , y = (3,5,8,9),   a = b = 1  "
   ]
  },
  {
   "cell_type": "markdown",
   "metadata": {},
   "source": [
    "f(a*x + b*y) = f(4,9,14,18) = 9 - 13.5 = -4.5  \n",
    "f(x) = 3.5 - 6.5 = -3 \n",
    "f(y) = 5.5 - 7 = -1.5\n",
    "a * f(x) + b * f(y) = -3 - 1.5 = -4.5    \n",
    "Linear!!  \n",
    "f(x) = a<sub>T</sub> x   \n",
    "a = (-1/2,1/2,0...0,1/2)"
   ]
  },
  {
   "cell_type": "markdown",
   "metadata": {},
   "source": [
    "#### (e) Vector extrapolation, defined as x<sub>n</sub> + (x<sub>n</sub> − x<sub>n-1</sub>), for n ≥ 2. (This is a simple prediction of what x<sub>n+1</sub> would be, based on a straight line drawn through x<sub>n</sub> and x<sub>n-1</sub> )\n",
    "\n",
    "Linear!"
   ]
  },
  {
   "cell_type": "markdown",
   "metadata": {},
   "source": [
    "#### Exercise 2: Processor powers and temperature. \n",
    "\n",
    "Hint. From the given data, find the 3-vector a and number b for which T = aT P + b.\n"
   ]
  },
  {
   "cell_type": "markdown",
   "metadata": {},
   "source": [
    "1. 10 * P1 + 10 * p2 + 10 * P3 + b = 30\n",
    "2. 100 * P1 + 10 * p2 + 10 * P3 + b = 60\n",
    "3. 10 * P1 + 100 * p2 + 10 * P3 + b = 70\n",
    "4. 10 * P1 + 10 * p2 + 100 * P3 + b = 65\n",
    "\n",
    "Subtract #4 and #1\n",
    "90 * P3 = 35\n",
    "P3 = 35/90\n",
    "\n",
    "Subtract #3 and #1 \n",
    "90 * P2 = 40\n",
    "P2 = 40/90 = 4/9\n",
    "\n",
    "Subtract #2 and #1 \n",
    "90 * P1 = 30\n",
    "P1 = 1/3\n",
    "\n",
    "\n",
    "calculate b by plugging in P1,P2,P3 calculated above\n",
    "\n",
    "10/3 + 40/9 + 35/9 + b = 30\n",
    "\n",
    "105/9 + b = 30\n",
    "b = 30 - 105/9 = 165/9 = 55/3\n",
    "\n",
    "(1/3 + 4/9+ 3.5/9) * Psame + 55/3 < 85\n",
    "\n",
    "Psame < 57\n"
   ]
  },
  {
   "cell_type": "markdown",
   "metadata": {},
   "source": [
    "#### Exercise 3: Motion of a mass in response to applied force"
   ]
  },
  {
   "cell_type": "markdown",
   "metadata": {},
   "source": []
  },
  {
   "cell_type": "markdown",
   "metadata": {},
   "source": [
    "### Taylor approximation. \n",
    "Consider the function f : R2 → R given by f (x1 , x2 ) = x1 x2 .  \n",
    "ˆˆ\n",
    "Find the Taylor approximation f at the point z = (1, 1). Compare f (x) and f (x) for the  \n",
    "following values of x:  \n",
    "x = (1,1), x = (1.05,0.95), x = (0.85,1.25), x = (−1,2)."
   ]
  },
  {
   "cell_type": "markdown",
   "metadata": {},
   "source": [
    "f(x) = f(z) + ∇f(z)T (x − z),"
   ]
  },
  {
   "cell_type": "markdown",
   "metadata": {},
   "source": [
    "f(x) = 1 + d(x1x2)/dx1 * (x1-1) + d(x1x2)/dx2 * (x2-1)\n",
    "\n",
    "f(z) = (1,1) = 1\n",
    "\n",
    "\n",
    "f(x) = 1 + x2 * (x1-1) + x1 * (x2-1)\n",
    "\n",
    "f(x) = 1 + (x1 -1) + (x2-1) \n",
    "\n",
    "f(x) = x1 + x2 -1\n",
    "\n",
    "###  f(1,1) = 1 + 1 -1 = 1\n",
    "\n",
    "### f(1.05, 0.095) = 1.05 + 0.095 -1 = 1\n",
    "\n",
    "### f(0.85, 1.25) = 0.85 + 1.25 - 1 = 1\n",
    "\n",
    "### f(-1, 2) = -1 + 2 -1 = 0\n",
    "\n",
    "## The closer we are to the z (1,1) the better the taylor approximation!!\n",
    "\n",
    "\n",
    "\n",
    "\n"
   ]
  },
  {
   "cell_type": "code",
   "execution_count": null,
   "metadata": {},
   "outputs": [],
   "source": []
  }
 ],
 "metadata": {
  "kernelspec": {
   "display_name": "Python 3",
   "language": "python",
   "name": "python3"
  },
  "language_info": {
   "codemirror_mode": {
    "name": "ipython",
    "version": 3
   },
   "file_extension": ".py",
   "mimetype": "text/x-python",
   "name": "python",
   "nbconvert_exporter": "python",
   "pygments_lexer": "ipython3",
   "version": "3.7.6"
  }
 },
 "nbformat": 4,
 "nbformat_minor": 4
}
